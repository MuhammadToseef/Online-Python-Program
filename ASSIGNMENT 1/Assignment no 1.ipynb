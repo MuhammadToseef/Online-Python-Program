{
 "cells": [
  {
   "cell_type": "code",
   "execution_count": 1,
   "id": "596aaf91",
   "metadata": {},
   "outputs": [
    {
     "name": "stdout",
     "output_type": "stream",
     "text": [
      "Twinle, twinkle, little star, \n",
      "      How | wonder what you are, \n",
      "       up above the world so high, \n",
      "  a diamond in the sky.\n",
      " Twinle, twinkle, little star, \n",
      "      How | wonder what you are \n"
     ]
    }
   ],
   "source": [
    "print(\"Twinle, twinkle, little star, \\n      How | wonder what you are, \\n       up above the world so high, \\n  a diamond in the sky.\\n Twinle, twinkle, little star, \\n      How | wonder what you are \")"
   ]
  },
  {
   "cell_type": "code",
   "execution_count": 2,
   "id": "65771b6d",
   "metadata": {},
   "outputs": [
    {
     "name": "stdout",
     "output_type": "stream",
     "text": [
      "3.9.7 (default, Sep 16 2021, 16:59:28) [MSC v.1916 64 bit (AMD64)]\n"
     ]
    }
   ],
   "source": [
    "import sys\n",
    "print(sys.version)"
   ]
  },
  {
   "cell_type": "code",
   "execution_count": 3,
   "id": "212b85f1",
   "metadata": {},
   "outputs": [
    {
     "name": "stdout",
     "output_type": "stream",
     "text": [
      "Current date and time : \n",
      "2022-01-03 13:37:50\n"
     ]
    }
   ],
   "source": [
    "import datetime\n",
    "now = datetime.datetime.now()\n",
    "print (\"Current date and time )\n",
    "print (now.strftime(\"%Y-%m-%d %H:%M:%S\"))\n"
   ]
  },
  {
   "cell_type": "code",
   "execution_count": 4,
   "id": "7115fda7",
   "metadata": {},
   "outputs": [
    {
     "name": "stdout",
     "output_type": "stream",
     "text": [
      " Radius of a circle : 5.3\n",
      "Area of the circle is : 88.24733763933729\n"
     ]
    }
   ],
   "source": [
    "from math import pi\n",
    "r=float(input(\" Radius of a circle : \"))\n",
    "print(\"Area of the circle is : \"+str(pi*r**2))"
   ]
  },
  {
   "cell_type": "code",
   "execution_count": 5,
   "id": "be621d59",
   "metadata": {},
   "outputs": [
    {
     "name": "stdout",
     "output_type": "stream",
     "text": [
      "Enter first name : Muhammad\n",
      "Enter last name : Toseef\n",
      "Toseef     Muhammad\n"
     ]
    }
   ],
   "source": [
    "fname=input(\"Enter first name : \")\n",
    "lname=input(\"Enter last name : \")\n",
    "print(lname+\"     \"+fname)"
   ]
  },
  {
   "cell_type": "code",
   "execution_count": 6,
   "id": "cd57081c",
   "metadata": {},
   "outputs": [
    {
     "name": "stdout",
     "output_type": "stream",
     "text": [
      "Enter first number5\n",
      "Enter second number9\n",
      "The sum of 5 and 9 is 14.0\n"
     ]
    }
   ],
   "source": [
    "num1 = input(\"Enter first number\")\n",
    "num2 = input(\"Enter second number\")\n",
    "sum=float(num1)+float(num2)\n",
    "print(\"The sum of {0} and {1} is {2}\".format(num1,num2,sum))"
   ]
  },
  {
   "cell_type": "code",
   "execution_count": null,
   "id": "e4656eef",
   "metadata": {},
   "outputs": [],
   "source": []
  }
 ],
 "metadata": {
  "kernelspec": {
   "display_name": "Python 3 (ipykernel)",
   "language": "python",
   "name": "python3"
  },
  "language_info": {
   "codemirror_mode": {
    "name": "ipython",
    "version": 3
   },
   "file_extension": ".py",
   "mimetype": "text/x-python",
   "name": "python",
   "nbconvert_exporter": "python",
   "pygments_lexer": "ipython3",
   "version": "3.9.7"
  }
 },
 "nbformat": 4,
 "nbformat_minor": 5
}
